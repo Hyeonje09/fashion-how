{
 "cells": [
  {
   "cell_type": "markdown",
   "id": "6ff05135",
   "metadata": {},
   "source": [
    "## sub-task 1 제출 스크립트\n",
    "ETRI FASHION-HOW Season 4 task1 제출코드입니다.\n",
    "#### 주의: 반드시 본 파일을 이용하여 제출을 수행해야 하며 파일의 이름은 task.ipynb로 유지되어야 합니다.\n",
    "- 작성하신 추론용 코드(예: test.py)를 본 스크립트 내의 etri_task1_submit() 함수로 작동되게끔 삽입하는 것으로 결과 제출을 수행할 수 있습니다.\n",
    "코드는 크게 4가지 파트로 구성되며, 해당 파트의 특성을 지켜서 내용을 편집하시면 되겠습니다.\n",
    "1. 제출용 aifactory 라이브러리 설치\n",
    "2. etri_task1_submit() 함수 편집 (추론 스크립트)\n",
    "3. submit() 함수로 wrapping\n",
    "4. if __name__ == \"__main__\" 조건문을 이용한 제출 수행\n",
    "\n",
    "※ 가능하면 제출시에는 포함되어 있는 train data를 폴더에서 제외하고 제출하시는 편이 좋습니다.\n",
    "- 파일 크기 감소 → 업로드 시간 감소 → 전체 추론 수행 시간 감소"
   ]
  },
  {
   "cell_type": "markdown",
   "id": "33268b01",
   "metadata": {},
   "source": [
    "### 1. 제출용 aifactory 라이브러리 설치\n",
    "#### 결과 전송에 필요하므로 아래와 같이 aifactory 라이브러리가 반드시 최신버전으로 설치될 수 있게끔 합니다"
   ]
  },
  {
   "cell_type": "code",
   "execution_count": null,
   "id": "d7f3f0fa",
   "metadata": {
    "scrolled": true
   },
   "outputs": [],
   "source": [
    "!pip install -U aifactory"
   ]
  },
  {
   "cell_type": "markdown",
   "id": "5ef113da",
   "metadata": {},
   "source": [
    "### 2. etri_task1_submit() 함수 편집 (추론 스크립트)\n",
    "#### etri_task1_submit() 편집 시 주의사항\n",
    "\n",
    "1. 아래 etri_task1_submit() 함수 내에 전체 추론 실행 코드를 삽입하고 결과를 dataframe으로 return하게끔 구성\n",
    "   - Baseline이 아닌 다른 모델을 사용하는 경우에도 동일\n",
    "2. 함수 내에서는 import * 가 적용되지 않으므로 필요한 import object를 직접 입력\n",
    "   - 반드시 함수 내에서 import가 이루어져야 합니다.\n",
    "3. argparse 사용시 args, _ = parser.parse_known_args()로 인자 지정\n",
    "   args = parser.parse_args()는 jupyter에서 오류가 발생합니다!!!\n",
    "4. 모델 내부의 경로는 ./ 으로 경로를 지정합니다. (예: weight 파일 경로)\n",
    "5. 데이터는 /aif/Dataset/ 경로 아래에 있습니다. (코드 내용 참조) \n",
    "6. return할 결과물과 양식에 유의합니다."
   ]
  },
  {
   "cell_type": "code",
   "execution_count": null,
   "id": "77d05b4d",
   "metadata": {},
   "outputs": [],
   "source": [
    "def etri_task1_submit():\n",
    "    \n",
    "    from dataset import ETRIDataset_emo\n",
    "    from networks import ResExtractor, Baseline_ResNet_emo\n",
    "\n",
    "    import pandas as pd\n",
    "    import numpy as np\n",
    "    from sklearn.metrics import confusion_matrix\n",
    "\n",
    "    import torch\n",
    "    import torch.utils.data\n",
    "    import torch.utils.data.distributed\n",
    "\n",
    "    from tqdm import tqdm\n",
    "\n",
    "    DEVICE = torch.device('cuda' if torch.cuda.is_available() else 'cpu')\n",
    "\n",
    "    net = Baseline_ResNet_emo().to(DEVICE)\n",
    "    trained_weights = torch.load('./models/Baseline_ResNet_emo/model_100.pkl', map_location=DEVICE) # 자기 모델 경로를 지정합니다\n",
    "    net.load_state_dict(trained_weights)\n",
    "\n",
    "    df = pd.read_csv('/aif/Dataset/info_etri20_emotion_test.csv') # 제출 시 데이터 경로 준수. /aif/ 아래에 있습니다.\n",
    "    val_dataset = ETRIDataset_emo(df, base_path='/aif/Dataset/Test/') # 제출 시 데이터 경로 준수. /aif/ 아래에 있습니다.\n",
    "    val_dataloader = torch.utils.data.DataLoader(val_dataset, batch_size=64, shuffle=False, num_workers=0) # 반드시 shuffle=False\n",
    "\n",
    "    daily_pred_list = np.array([])\n",
    "    gender_pred_list = np.array([])\n",
    "    embel_pred_list = np.array([])\n",
    "\n",
    "    for j, sample in tqdm(enumerate(val_dataloader)):\n",
    "        for key in sample:\n",
    "            sample[key] = sample[key].to(DEVICE)\n",
    "        out_daily, out_gender, out_embel = net(sample)\n",
    "\n",
    "        daily_pred = out_daily\n",
    "        _, daily_indx = daily_pred.max(1)\n",
    "        daily_pred_list = np.concatenate([daily_pred_list, daily_indx.cpu()], axis=0)\n",
    "\n",
    "        gender_pred = out_gender\n",
    "        _, gender_indx = gender_pred.max(1)\n",
    "        gender_pred_list = np.concatenate([gender_pred_list, gender_indx.cpu()], axis=0)\n",
    "\n",
    "        embel_pred = out_embel\n",
    "        _, embel_indx = embel_pred.max(1)\n",
    "        embel_pred_list = np.concatenate([embel_pred_list, embel_indx.cpu()], axis=0)\n",
    "\n",
    "    # 예측 결과를 dataframe으로 변환한 다음 함수의 결과로 return합니다.\n",
    "    # 'image_name', 'daily', 'gender', 'embel'의 컬럼명과 image_name의 샘플 순서를 지켜주시기 바랍니다.\n",
    "    # Baseline이 아닌 다른 모델을 사용하는 경우에도 같은 형식의 dataframe으로 return할 수 있도록 합니다.\n",
    "    out = pd.DataFrame({'image_name':df['image_name'], 'daily':daily_pred_list, 'gender':gender_pred_list, 'embel':embel_pred_list})\n",
    "   \n",
    "    return out # 반드시 추론결과를 return"
   ]
  },
  {
   "cell_type": "markdown",
   "id": "9cd9ff6a",
   "metadata": {},
   "source": [
    "### 3. submit() 함수로 wrapping\n",
    "#### 반드시 아래와 같이 submit() 이라는 함수로 위에 정의된 etri_task1_submit 함수를 wrapping해야 합니다."
   ]
  },
  {
   "cell_type": "code",
   "execution_count": null,
   "id": "8462eb5f",
   "metadata": {},
   "outputs": [],
   "source": [
    "def submit():\n",
    "    return etri_task1_submit"
   ]
  },
  {
   "cell_type": "markdown",
   "id": "f1f41b0e",
   "metadata": {},
   "source": [
    "### 4. if name == \"main\" 조건문을 이용한 제출 수행\n",
    "#### 아래와 같이 if __name__ == \"__main__\" 구문 내에서 제출 함수가 실행되게끔 합니다.\n",
    "#### ※ task별, 참가자별로 key가 다릅니다. 잘못 입력하지 않도록 유의바랍니다.\n",
    "- key는 각팀 팀장분에게 메일로 할당된 계정을 이용하여 task별로 확인하실 수 있습니다."
   ]
  },
  {
   "cell_type": "code",
   "execution_count": null,
   "id": "b3468396",
   "metadata": {
    "scrolled": false
   },
   "outputs": [],
   "source": [
    "import aifactory.score as aif\n",
    "import time\n",
    "t = time.time()\n",
    "if __name__ == \"__main__\":\n",
    "    #-----------------------------------------------------#\n",
    "    aif.submit(model_name=\"dduittongsu\",             # 본인의 모델명 입력(버전 관리에 용이하게끔 편의에 맞게 지정합니다)\n",
    "               key=\"618065f2-1b0a-4b1e-ad4b-f5471d481625\",                        # 본인의 task key 입력\n",
    "               func=submit                                 # 3.에서 wrapping한 submit function\n",
    "               )\n",
    "    #-----------------------------------------------------#\n",
    "    print(time.time() - t)"
   ]
  }
 ],
 "metadata": {
  "kernelspec": {
   "display_name": "Python 3 (ipykernel)",
   "language": "python",
   "name": "python3"
  },
  "language_info": {
   "codemirror_mode": {
    "name": "ipython",
    "version": 3
   },
   "file_extension": ".py",
   "mimetype": "text/x-python",
   "name": "python",
   "nbconvert_exporter": "python",
   "pygments_lexer": "ipython3",
   "version": "3.10.4"
  }
 },
 "nbformat": 4,
 "nbformat_minor": 5
}
